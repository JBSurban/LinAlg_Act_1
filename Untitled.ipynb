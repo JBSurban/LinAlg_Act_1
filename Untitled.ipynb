{
 "cells": [
  {
   "cell_type": "code",
   "execution_count": 2,
   "metadata": {},
   "outputs": [
    {
     "name": "stdout",
     "output_type": "stream",
     "text": [
      "Charmander at level 15\n",
      "Pidgey at level 11\n",
      "Sandshrew at level 18\n",
      "Rattata at level 5\n",
      "Abra at level 14\n"
     ]
    }
   ],
   "source": [
    "party = {'Charmander':15,'Pidgey':11,'Sandshrew':18,'Rattata':5,'Abra':14}\n",
    "for x,y in party.items(): print(x, \"at level\",y)"
   ]
  },
  {
   "cell_type": "code",
   "execution_count": 5,
   "metadata": {},
   "outputs": [
    {
     "name": "stdout",
     "output_type": "stream",
     "text": [
      "['Dialga', 'Regigigas', 'Onix']\n"
     ]
    }
   ],
   "source": [
    "reserves = [\n",
    "    ('Onix', 10),\n",
    "    ('Slowpoke', 18),\n",
    "    ('Dialga', 2),\n",
    "    ('Magikarp', 32),\n",
    "    ('Feebas', 22),\n",
    "    ('Swablu', 19),\n",
    "    ('Regigigas', 3),\n",
    "    ('Unown', 50)\n",
    "]\n",
    "picks = sorted(reserves, key=lambda x: x[1])[:3]\n",
    "# sorting it by second val of tuple in ascending order\n",
    "print([x[0] for x in picks])"
   ]
  },
  {
   "cell_type": "code",
   "execution_count": 8,
   "metadata": {},
   "outputs": [
    {
     "name": "stdout",
     "output_type": "stream",
     "text": [
      "['Unown', 'Magikarp', 'Feebas']\n"
     ]
    }
   ],
   "source": [
    "reserves = [\n",
    "    ('Onix', 10),\n",
    "    ('Slowpoke', 18),\n",
    "    ('Dialga', 2),\n",
    "    ('Magikarp', 32),\n",
    "    ('Feebas', 22),\n",
    "    ('Swablu', 19),\n",
    "    ('Regigigas', 3),\n",
    "    ('Unown', 50)\n",
    "]\n",
    "picks = sorted(reserves, key=lambda x: x[1], reverse=True)[:3]\n",
    "# sorting it by second val of tuple in descending order\n",
    "print([x[0] for x in picks])"
   ]
  },
  {
   "cell_type": "code",
   "execution_count": 14,
   "metadata": {},
   "outputs": [
    {
     "name": "stdout",
     "output_type": "stream",
     "text": [
      "Sample Parties\n",
      "['Charmander', 'Pidgey', 'Sandshrew', 'Rattata', 'Abra', 'Dialga']\n",
      "['Charmander', 'Pidgey', 'Sandshrew', 'Rattata', 'Abra', 'Regigigas']\n",
      "['Charmander', 'Pidgey', 'Sandshrew', 'Rattata', 'Abra', 'Onix']\n"
     ]
    }
   ],
   "source": [
    "def create_party(party,candidates):\n",
    "    return [party.copy() + [x] for x in candidates]\n",
    "party = ['Charmander','Pidgey','Sandshrew','Rattata','Abra']\n",
    "reserves = [\n",
    "    ('Onix', 10),\n",
    "    ('Slowpoke', 18),\n",
    "    ('Dialga', 2),\n",
    "    ('Magikarp', 32),\n",
    "    ('Feebas', 22),\n",
    "    ('Swablu', 19),\n",
    "    ('Regigigas', 3),\n",
    "    ('Unown', 50)\n",
    "]\n",
    "picks = sorted(reserves, key=lambda x: x[1])[:3]\n",
    "# sorting it by second val of tuple in ascending order\n",
    "print('Sample Parties', *[x for x in create_party(party,[y[0] for y in picks])],sep='\\n')"
   ]
  },
  {
   "cell_type": "code",
   "execution_count": null,
   "metadata": {},
   "outputs": [],
   "source": []
  }
 ],
 "metadata": {
  "kernelspec": {
   "display_name": "Python 3",
   "language": "python",
   "name": "python3"
  },
  "language_info": {
   "codemirror_mode": {
    "name": "ipython",
    "version": 3
   },
   "file_extension": ".py",
   "mimetype": "text/x-python",
   "name": "python",
   "nbconvert_exporter": "python",
   "pygments_lexer": "ipython3",
   "version": "3.8.3"
  }
 },
 "nbformat": 4,
 "nbformat_minor": 4
}
